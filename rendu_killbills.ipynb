{
 "cells": [
  {
   "cell_type": "code",
   "execution_count": 1,
   "id": "2340a16a",
   "metadata": {},
   "outputs": [],
   "source": [
    "import pandas as pd\n",
    "import numpy as np\n",
    "from plotnine import *\n",
    "import plotnine\n",
    "import psycopg2\n",
    "\n",
    "# Import module for k-protoype cluster\n",
    "from kmodes.kprototypes import KPrototypes\n",
    "\n",
    "# Ignore warnings\n",
    "import warnings\n",
    "warnings.filterwarnings('ignore', category = FutureWarning)\n",
    "\n",
    "# Format scientific notation from Pandas\n",
    "pd.set_option('display.float_format', lambda x: '%.3f' % x)"
   ]
  },
  {
   "cell_type": "code",
   "execution_count": 2,
   "id": "1c8d5b1d",
   "metadata": {},
   "outputs": [],
   "source": [
    "# Établir la connexion à la base de données PostgreSQL\n",
    "conn = psycopg2.connect(\n",
    "    host=\"prod-rds-db.cbijryjiwdgw.eu-west-3.rds.amazonaws.com\",\n",
    "    database=\"prodkbdb\",\n",
    "    user=\"testdata\",\n",
    "    password=\"testData678341A\",\n",
    "    port = 5432\n",
    ")\n",
    "\n",
    "# Créer un curseur pour exécuter les requêtes\n",
    "cur = conn.cursor()\n",
    "\n",
    "# Exécuter une requête SELECT pour récupérer les données de la table\n",
    "cur.execute(\"SELECT * from items\")\n",
    "rows = cur.fetchall()\n",
    "\n",
    "# Transformer les résultats en un tableau Python\n",
    "result_array = []\n",
    "\n",
    "for row in rows:    \n",
    "    result_array.append(row)\n",
    "\n",
    "\n",
    "# Fermer le curseur et la connexion à la base de données\n",
    "cur.close()\n",
    "conn.close()\n"
   ]
  },
  {
   "cell_type": "code",
   "execution_count": 3,
   "id": "9473e746",
   "metadata": {},
   "outputs": [],
   "source": [
    "# transformer le tableau en array\n",
    "result=np.array(result_array)\n",
    "\n",
    "\n",
    "# transformer en dataframe et renommer les colonnes\n",
    "data = pd.DataFrame(result, columns =['id', 'amount', 'description','date','itemName','parent','quantity','taxAmount','taxDescription','type','storeId','createdAt','updatedAt','taxRate'])\n",
    "\n",
    "#supprimer les colonnes inutiles pour le clustering\n",
    "data.drop(['id', 'date', 'parent', 'quantity','description', 'type','updatedAt'], axis = 1, inplace = True)\n",
    "\n",
    "#changer le type de certaines colonnes\n",
    "data['amount'] = data['amount'].astype(float)\n",
    "data['taxAmount'] = data['taxAmount'].astype(float)\n",
    "data['taxRate'] = data['taxRate'].astype(float)\n",
    "data['createdAt'] = data['createdAt'].dt.strftime('%Y-%m-%d %H:%M:%S')\n",
    "\n"
   ]
  },
  {
   "cell_type": "code",
   "execution_count": 4,
   "id": "912b496f",
   "metadata": {},
   "outputs": [],
   "source": [
    "# retransformer en array\n",
    "dataMatrix = data.to_numpy()\n",
    "\n",
    "# Calculer le nombre de lignes à conserver (10% du total)\n",
    "nombre_lignes_a_garder = int(0.10 * len(dataMatrix))\n",
    "\n",
    "# Sélectionner aléatoirement 10% des indices de lignes\n",
    "indices_lignes_gardees = np.random.choice(len(dataMatrix), size=nombre_lignes_a_garder, replace=False)\n",
    "\n",
    "# Créer un nouveau tableau avec les lignes sélectionnées\n",
    "nouveau_tableau = dataMatrix[indices_lignes_gardees]"
   ]
  },
  {
   "cell_type": "code",
   "execution_count": 6,
   "id": "324a6d1c",
   "metadata": {},
   "outputs": [
    {
     "data": {
      "text/plain": [
       "KPrototypes(gamma=133.97809833074174, init='Huang', n_clusters=4, n_jobs=-1,\n",
       "            random_state=0)"
      ]
     },
     "execution_count": 6,
     "metadata": {},
     "output_type": "execute_result"
    }
   ],
   "source": [
    "# Obtenir les index des variables catégorielles\n",
    "catColumnsPos = [data.columns.get_loc(col) for col in list(data.select_dtypes('object').columns)]\n",
    "\n",
    "# implémenter le modèle avec 4 clusters\n",
    "kproto = KPrototypes(n_jobs = -1, n_clusters = 4, init = 'Huang', random_state = 0)\n",
    "kproto.fit(nouveau_tableau , categorical = catColumnsPos)"
   ]
  },
  {
   "cell_type": "code",
   "execution_count": 9,
   "id": "d3d0fd2a",
   "metadata": {},
   "outputs": [
    {
     "name": "stdout",
     "output_type": "stream",
     "text": [
      "Le nouveau point appartient au cluster: [1]\n",
      "Le centre du cluste [1] est: [['14.4063481677657' '0.265729470167405' '393.7897485418089'\n",
      "  'california saumon avocat' 'TVA 5.5 %'\n",
      "  'b4f0da25-d6f8-4fcc-8333-be8dda441c89' '2023-04-14 14:27:58']]\n"
     ]
    }
   ],
   "source": [
    "# la fonction demandée\n",
    "\n",
    "def clustering(id):\n",
    "    \n",
    "    item1 = result[result[:, 0] == id] \n",
    "    \n",
    "\n",
    "    item = pd.DataFrame(item1, columns =['id', 'amount', 'description','date','itemName','parent','quantity','taxAmount','taxDescription','type','storeId','createdAt','updatedAt','taxRate'])\n",
    "    item.drop(['id', 'date', 'parent', 'quantity','description', 'type','updatedAt'], axis = 1, inplace = True)\n",
    "    item['amount'] = item['amount'].astype(float)\n",
    "    item['taxAmount'] = item['taxAmount'].astype(float)\n",
    "    item['taxRate'] = item['taxRate'].astype(float)\n",
    "    item['createdAt'] = item['createdAt'].dt.strftime('%Y-%m-%d %H:%M:%S')\n",
    "    itemMatrix = item.to_numpy()\n",
    "\n",
    "    cluster = kproto.predict( np.array(itemMatrix), categorical= catColumnsPos)  \n",
    "    print(\"Le nouveau point appartient au cluster:\", cluster)\n",
    "    print(\"Le centre du cluste\",cluster,\"est:\",kproto.cluster_centroids_[cluster])\n",
    "\n",
    "# test de la fonction\n",
    "clustering('06c520a0-802f-4e39-a99d-6f24d32de1e9')"
   ]
  },
  {
   "cell_type": "code",
   "execution_count": 14,
   "id": "8393d5fc",
   "metadata": {},
   "outputs": [
    {
     "data": {
      "text/html": [
       "<div>\n",
       "<style scoped>\n",
       "    .dataframe tbody tr th:only-of-type {\n",
       "        vertical-align: middle;\n",
       "    }\n",
       "\n",
       "    .dataframe tbody tr th {\n",
       "        vertical-align: top;\n",
       "    }\n",
       "\n",
       "    .dataframe thead th {\n",
       "        text-align: right;\n",
       "    }\n",
       "</style>\n",
       "<table border=\"1\" class=\"dataframe\">\n",
       "  <thead>\n",
       "    <tr style=\"text-align: right;\">\n",
       "      <th></th>\n",
       "      <th>amount</th>\n",
       "      <th>itemName</th>\n",
       "      <th>taxAmount</th>\n",
       "      <th>taxDescription</th>\n",
       "      <th>storeId</th>\n",
       "      <th>createdAt</th>\n",
       "      <th>taxRate</th>\n",
       "    </tr>\n",
       "  </thead>\n",
       "  <tbody>\n",
       "    <tr>\n",
       "      <th>0</th>\n",
       "      <td>0.000</td>\n",
       "      <td>gingembre offert</td>\n",
       "      <td>0.000</td>\n",
       "      <td>TVA 0 %</td>\n",
       "      <td>a3af4692-a7d6-41c4-8edf-05ff8f3c2d28</td>\n",
       "      <td>2023-05-07 20:40:52</td>\n",
       "      <td>0.000</td>\n",
       "    </tr>\n",
       "    <tr>\n",
       "      <th>1</th>\n",
       "      <td>0.000</td>\n",
       "      <td>jaint jacques</td>\n",
       "      <td>0.000</td>\n",
       "      <td>TVA 10 %</td>\n",
       "      <td>4768c91b-96f8-41f4-9e23-3f486de63184</td>\n",
       "      <td>2023-05-07 20:41:15</td>\n",
       "      <td>1000.000</td>\n",
       "    </tr>\n",
       "    <tr>\n",
       "      <th>2</th>\n",
       "      <td>8.000</td>\n",
       "      <td>50 campus</td>\n",
       "      <td>1.340</td>\n",
       "      <td>TVA 20 %</td>\n",
       "      <td>e3c96dbf-92b8-4b09-b895-00f410f51149</td>\n",
       "      <td>2023-05-07 20:41:59</td>\n",
       "      <td>2000.000</td>\n",
       "    </tr>\n",
       "    <tr>\n",
       "      <th>3</th>\n",
       "      <td>4.500</td>\n",
       "      <td>beurre-sucre roux</td>\n",
       "      <td>0.410</td>\n",
       "      <td>TVA 10 %</td>\n",
       "      <td>f9438a91-4cb8-4f29-8053-58363d9b4a0f</td>\n",
       "      <td>2023-05-07 20:42:19</td>\n",
       "      <td>1000.000</td>\n",
       "    </tr>\n",
       "    <tr>\n",
       "      <th>4</th>\n",
       "      <td>6.910</td>\n",
       "      <td>pink tonic</td>\n",
       "      <td>1.160</td>\n",
       "      <td>TVA 20 %</td>\n",
       "      <td>adef4d01-1b6a-4f8e-bda8-7ef743ecf184</td>\n",
       "      <td>2023-05-07 20:42:22</td>\n",
       "      <td>2000.000</td>\n",
       "    </tr>\n",
       "  </tbody>\n",
       "</table>\n",
       "</div>"
      ],
      "text/plain": [
       "   amount           itemName  taxAmount taxDescription  \\\n",
       "0   0.000   gingembre offert      0.000        TVA 0 %   \n",
       "1   0.000      jaint jacques      0.000       TVA 10 %   \n",
       "2   8.000          50 campus      1.340       TVA 20 %   \n",
       "3   4.500  beurre-sucre roux      0.410       TVA 10 %   \n",
       "4   6.910         pink tonic      1.160       TVA 20 %   \n",
       "\n",
       "                                storeId            createdAt  taxRate  \n",
       "0  a3af4692-a7d6-41c4-8edf-05ff8f3c2d28  2023-05-07 20:40:52    0.000  \n",
       "1  4768c91b-96f8-41f4-9e23-3f486de63184  2023-05-07 20:41:15 1000.000  \n",
       "2  e3c96dbf-92b8-4b09-b895-00f410f51149  2023-05-07 20:41:59 2000.000  \n",
       "3  f9438a91-4cb8-4f29-8053-58363d9b4a0f  2023-05-07 20:42:19 1000.000  \n",
       "4  adef4d01-1b6a-4f8e-bda8-7ef743ecf184  2023-05-07 20:42:22 2000.000  "
      ]
     },
     "execution_count": 14,
     "metadata": {},
     "output_type": "execute_result"
    }
   ],
   "source": [
    "data.head()"
   ]
  }
 ],
 "metadata": {
  "kernelspec": {
   "display_name": "Python 3 (ipykernel)",
   "language": "python",
   "name": "python3"
  },
  "language_info": {
   "codemirror_mode": {
    "name": "ipython",
    "version": 3
   },
   "file_extension": ".py",
   "mimetype": "text/x-python",
   "name": "python",
   "nbconvert_exporter": "python",
   "pygments_lexer": "ipython3",
   "version": "3.9.7"
  }
 },
 "nbformat": 4,
 "nbformat_minor": 5
}
